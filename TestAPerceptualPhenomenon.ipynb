{
 "cells": [
  {
   "cell_type": "markdown",
   "metadata": {},
   "source": [
    "# Test a Perceptual Phenomenon "
   ]
  },
  {
   "cell_type": "markdown",
   "metadata": {},
   "source": [
    "### Q1: What is our independent variable? What is our dependent variable?"
   ]
  },
  {
   "cell_type": "markdown",
   "metadata": {},
   "source": [
    "The time it takes to name the ink color by participants is being measured in this test, so it is the **Dependent variable**.\n",
    "\n",
    "The color of the word is being varied to measure its effect on response time, so it is the **Independent Variable**."
   ]
  },
  {
   "cell_type": "markdown",
   "metadata": {},
   "source": [
    "### Q2: What is an appropriate set of hypothesis for this task? What kind of statistical test do you expect to perform? Justify your choices."
   ]
  },
  {
   "cell_type": "markdown",
   "metadata": {},
   "source": [
    "We can hypothesize that there is no significant differenct between the mean time it takes participants to complete congruent words condition and the mean time it takes participants to complete incongruent words condition.\n",
    "\n",
    "Let $ H_O $ be null hypothesis and $ H_A $ be alternative hypothesis.<br>\n",
    "Let $ \\mu_c $ be population mean for congruent sample and $ \\mu_i $ be population mean for incongruent sample.<br>\n",
    "<br>\n",
    "$H_O: \\mu_c - \\mu_i  = 0$<br>\n",
    "$H_A: \\mu_c - \\mu_i \\neq 0$<br>\n",
    "\n",
    "\n",
    "Each participant goes through and records time for each condition - Congruent words and Incongruent words. So, from statistical point of view, our samples are **dependent**.\n",
    "\n",
    "Also, we do not know the population mean($\\mu$) and standard deviation($\\sigma$), so t-test is a good choice to find out if the mean of two samples differ significantly.\n",
    "\n",
    "Specifically, We will perform a **dependent t-test for paired samples**.\n",
    "\n",
    "Let us assume that our significance level is .05. So,<br> \n",
    "$\\alpha  = .05$\n",
    "\n",
    "This test is bi-directional because $\\mu_c -\\mu_i$ should either be significantly less or significantly more than 0 in order to reject our null hypothesis. So it is a **two-tailed test**."
   ]
  },
  {
   "cell_type": "markdown",
   "metadata": {},
   "source": [
    "### Q3. Report some descriptive satististics regarding this dataset. Include at least one measure of central tendency and at least one measure of variability."
   ]
  },
  {
   "cell_type": "code",
   "execution_count": 32,
   "metadata": {},
   "outputs": [
    {
     "data": {
      "text/html": [
       "<div>\n",
       "<style scoped>\n",
       "    .dataframe tbody tr th:only-of-type {\n",
       "        vertical-align: middle;\n",
       "    }\n",
       "\n",
       "    .dataframe tbody tr th {\n",
       "        vertical-align: top;\n",
       "    }\n",
       "\n",
       "    .dataframe thead th {\n",
       "        text-align: right;\n",
       "    }\n",
       "</style>\n",
       "<table border=\"1\" class=\"dataframe\">\n",
       "  <thead>\n",
       "    <tr style=\"text-align: right;\">\n",
       "      <th></th>\n",
       "      <th>Congruent</th>\n",
       "      <th>Incongruent</th>\n",
       "    </tr>\n",
       "  </thead>\n",
       "  <tbody>\n",
       "    <tr>\n",
       "      <th>mean</th>\n",
       "      <td>14.051125</td>\n",
       "      <td>22.015917</td>\n",
       "    </tr>\n",
       "    <tr>\n",
       "      <th>std</th>\n",
       "      <td>3.559358</td>\n",
       "      <td>4.797057</td>\n",
       "    </tr>\n",
       "  </tbody>\n",
       "</table>\n",
       "</div>"
      ],
      "text/plain": [
       "      Congruent  Incongruent\n",
       "mean  14.051125    22.015917\n",
       "std    3.559358     4.797057"
      ]
     },
     "execution_count": 32,
     "metadata": {},
     "output_type": "execute_result"
    }
   ],
   "source": [
    "import pandas as pd\n",
    "%matplotlib inline\n",
    "\n",
    "df = pd.read_csv('stroopdata.csv')\n",
    "desc = df.describe()\n",
    "desc[['Congruent', 'Incongruent']].iloc[1:3]"
   ]
  },
  {
   "cell_type": "markdown",
   "metadata": {},
   "source": [
    "Let $ \\overline{X_c} $ be mean of Congruent sample and $ \\overline{X_i} $ be mean of Incongruent sample.<br>\n",
    "Let $ S_c $ be standard deviation of Congruent sample and $ S_i $ be standard deviation of Incongruent sample.<br>\n",
    "Let $n$ be the sample size.<br>\n",
    "\n",
    "From the calulation above made using pandas(rounded to two decimal places):<br>\n",
    "\n",
    "$\\overline{X_c} = 14.05, S_c = 3.56, n = 24$<br>\n",
    "$\\overline{X_i} = 22.02, S_i = 4.78, n= 24$<br>"
   ]
  },
  {
   "cell_type": "markdown",
   "metadata": {},
   "source": [
    "### Q4:  Provide one or two visualizations that show the distribution of the sample data. Write one or two sentences noting what you observe about the plot or plots."
   ]
  },
  {
   "cell_type": "markdown",
   "metadata": {},
   "source": [
    "#### Histogram plot of congruent sample"
   ]
  },
  {
   "cell_type": "code",
   "execution_count": 38,
   "metadata": {},
   "outputs": [
    {
     "data": {
      "text/plain": [
       "<matplotlib.axes._subplots.AxesSubplot at 0x7f585686ecf8>"
      ]
     },
     "execution_count": 38,
     "metadata": {},
     "output_type": "execute_result"
    },
    {
     "data": {
      "image/png": "[encoded data removed]",
      "text/plain": [
       "<Figure size 432x288 with 1 Axes>"
      ]
     },
     "metadata": {
      "needs_background": "light"
     },
     "output_type": "display_data"
    }
   ],
   "source": [
    "df['Congruent'].plot(kind='hist', xticks=[5, 9, 13, 17, 21, 25], title='Congruent Sample')"
   ]
  },
  {
   "cell_type": "markdown",
   "metadata": {},
   "source": [
    "This plot shows that congruent sample is somewhat normally distributed. The mean of congruent sample, $ \\overline{X_c} $ = 14.05, is close to the center of this distribution."
   ]
  },
  {
   "cell_type": "markdown",
   "metadata": {},
   "source": [
    "#### Histogram plot of incongruent sample"
   ]
  },
  {
   "cell_type": "code",
   "execution_count": 34,
   "metadata": {
    "scrolled": true
   },
   "outputs": [
    {
     "data": {
      "text/plain": [
       "<matplotlib.axes._subplots.AxesSubplot at 0x7f58568e0b38>"
      ]
     },
     "execution_count": 34,
     "metadata": {},
     "output_type": "execute_result"
    },
    {
     "data": {
      "image/png": "[encoded data removed]",
      "text/plain": [
       "<Figure size 432x288 with 1 Axes>"
      ]
     },
     "metadata": {
      "needs_background": "light"
     },
     "output_type": "display_data"
    }
   ],
   "source": [
    "df['Incongruent'].plot(kind='hist', xticks=[15, 20, 25, 30, 35, 40], title='Incongruent Sample')"
   ]
  },
  {
   "cell_type": "markdown",
   "metadata": {},
   "source": [
    "This plot shows that incongruent sample is somewhat positively skewed. The mean of incongruent sample, $ \\overline{X_i} $ = 22.02, is far left off the center of distribution."
   ]
  },
  {
   "cell_type": "markdown",
   "metadata": {},
   "source": [
    "### Q5: Now, perform the statistical test and report your results. What is your confidence level and your critical statistic value? Do you reject the null hypothesis or fail to reject it? Come to a conclusion in terms of the experiment task. Did the results match up with your expectations? "
   ]
  },
  {
   "cell_type": "markdown",
   "metadata": {},
   "source": [
    "For conveninence in calculations, we create another column called **'Difference'** which is the time diffrence between congruent and incongruent sample."
   ]
  },
  {
   "cell_type": "code",
   "execution_count": 35,
   "metadata": {},
   "outputs": [],
   "source": [
    "df['Difference'] = df['Congruent'] - df['Incongruent']"
   ]
  },
  {
   "cell_type": "markdown",
   "metadata": {},
   "source": [
    "Here is how the first 5 entries of the dataframe look like now:"
   ]
  },
  {
   "cell_type": "code",
   "execution_count": 36,
   "metadata": {},
   "outputs": [
    {
     "data": {
      "text/html": [
       "<div>\n",
       "<style scoped>\n",
       "    .dataframe tbody tr th:only-of-type {\n",
       "        vertical-align: middle;\n",
       "    }\n",
       "\n",
       "    .dataframe tbody tr th {\n",
       "        vertical-align: top;\n",
       "    }\n",
       "\n",
       "    .dataframe thead th {\n",
       "        text-align: right;\n",
       "    }\n",
       "</style>\n",
       "<table border=\"1\" class=\"dataframe\">\n",
       "  <thead>\n",
       "    <tr style=\"text-align: right;\">\n",
       "      <th></th>\n",
       "      <th>Congruent</th>\n",
       "      <th>Incongruent</th>\n",
       "      <th>Difference</th>\n",
       "    </tr>\n",
       "  </thead>\n",
       "  <tbody>\n",
       "    <tr>\n",
       "      <th>0</th>\n",
       "      <td>12.079</td>\n",
       "      <td>19.278</td>\n",
       "      <td>-7.199</td>\n",
       "    </tr>\n",
       "    <tr>\n",
       "      <th>1</th>\n",
       "      <td>16.791</td>\n",
       "      <td>18.741</td>\n",
       "      <td>-1.950</td>\n",
       "    </tr>\n",
       "    <tr>\n",
       "      <th>2</th>\n",
       "      <td>9.564</td>\n",
       "      <td>21.214</td>\n",
       "      <td>-11.650</td>\n",
       "    </tr>\n",
       "    <tr>\n",
       "      <th>3</th>\n",
       "      <td>8.630</td>\n",
       "      <td>15.687</td>\n",
       "      <td>-7.057</td>\n",
       "    </tr>\n",
       "    <tr>\n",
       "      <th>4</th>\n",
       "      <td>14.669</td>\n",
       "      <td>22.803</td>\n",
       "      <td>-8.134</td>\n",
       "    </tr>\n",
       "  </tbody>\n",
       "</table>\n",
       "</div>"
      ],
      "text/plain": [
       "   Congruent  Incongruent  Difference\n",
       "0     12.079       19.278      -7.199\n",
       "1     16.791       18.741      -1.950\n",
       "2      9.564       21.214     -11.650\n",
       "3      8.630       15.687      -7.057\n",
       "4     14.669       22.803      -8.134"
      ]
     },
     "execution_count": 36,
     "metadata": {},
     "output_type": "execute_result"
    }
   ],
   "source": [
    "df.head()"
   ]
  },
  {
   "cell_type": "code",
   "execution_count": 37,
   "metadata": {},
   "outputs": [
    {
     "data": {
      "text/html": [
       "<div>\n",
       "<style scoped>\n",
       "    .dataframe tbody tr th:only-of-type {\n",
       "        vertical-align: middle;\n",
       "    }\n",
       "\n",
       "    .dataframe tbody tr th {\n",
       "        vertical-align: top;\n",
       "    }\n",
       "\n",
       "    .dataframe thead th {\n",
       "        text-align: right;\n",
       "    }\n",
       "</style>\n",
       "<table border=\"1\" class=\"dataframe\">\n",
       "  <thead>\n",
       "    <tr style=\"text-align: right;\">\n",
       "      <th></th>\n",
       "      <th>Congruent</th>\n",
       "      <th>Incongruent</th>\n",
       "      <th>Difference</th>\n",
       "    </tr>\n",
       "  </thead>\n",
       "  <tbody>\n",
       "    <tr>\n",
       "      <th>mean</th>\n",
       "      <td>14.051125</td>\n",
       "      <td>22.015917</td>\n",
       "      <td>-7.964792</td>\n",
       "    </tr>\n",
       "    <tr>\n",
       "      <th>std</th>\n",
       "      <td>3.559358</td>\n",
       "      <td>4.797057</td>\n",
       "      <td>4.864827</td>\n",
       "    </tr>\n",
       "  </tbody>\n",
       "</table>\n",
       "</div>"
      ],
      "text/plain": [
       "      Congruent  Incongruent  Difference\n",
       "mean  14.051125    22.015917   -7.964792\n",
       "std    3.559358     4.797057    4.864827"
      ]
     },
     "execution_count": 37,
     "metadata": {},
     "output_type": "execute_result"
    }
   ],
   "source": [
    "desc = df.describe()\n",
    "desc[['Congruent', 'Incongruent', 'Difference']].iloc[1:3]"
   ]
  },
  {
   "cell_type": "markdown",
   "metadata": {},
   "source": [
    "Let $\\overline{X_d}$ be the mean of Difference column.<br>\n",
    "Let $S_d$ be the standard deviation of Difference column.\n",
    "\n",
    "From the calulation above made using pandas(rounded to two decimal places):<br>\n",
    "\n",
    "$\\overline{X_d} = -7.96$<br>\n",
    "$S_d = 4.86$<br>\n",
    "\n",
    "\n",
    "Let $ SE_d $ be the standard error of Difference column.<br>\n",
    "Let $n$ be the sample size.<br>\n",
    "\n",
    "$n = 24$\n",
    "\n",
    "Standard error can be calculated using the following formula:<br>\n",
    "\n",
    "$SE_d = \\frac{S_d}{\\sqrt{n}}$\n",
    "\n",
    "Hence,<br>\n",
    "$SE_d = \\frac{4.86}{\\sqrt{24}} = 0.99$<br>\n",
    "\n",
    "Also, we have calculated above:<br>\n",
    "\n",
    "$\\overline{X_c} = 14.05$<br>\n",
    "$\\overline{X_i} = 22.02$<br>\n",
    "\n",
    "Point Estimate = $\\overline{X_c} - \\overline{X_i} = 14.05 - 22.02 = -7.97$\n",
    "\n",
    "$t-statistic = \\frac{\\overline{X_c} - \\overline{X_i}}{SE_d} = \\frac{-7.97}{0.99} = -8.05$\n",
    "\n",
    "Now, we need to calculate $t-critical$ value for $\\alpha = 0.05$ for two-tailed test with degree of freedom $n - 1 = 23$. Using t-table, we find that:<br>\n",
    "\n",
    "$t-critical = \\pm2.069$<br>\n",
    "\n",
    "Hence, $t-statistic < t-critical$\n",
    "\n",
    "$t-statistic$ lies in the critical region of the left tail<br>\n",
    "with, <br>\n",
    "$p-value < 0.0001$ which is extremely statistically  significant.\n",
    "\n",
    "So, we have strong evidence to reject the null, $H_o$. This means that mean difference between $\\mu_c$ and $\\mu_i$ is significantly different.<br>\n",
    "\n",
    "$t(23) = -8.05, p < .0001, two-tailed$\n",
    "\n",
    "The 95% confidence interval in which the mean differece may lie can be calculated as follows:<br>\n",
    "\n",
    "$CI = (\\overline{X_c} - \\overline{X_i}) \\pm t-critical * SE_d$\n",
    "\n",
    "For $\\alpha=0.05$ and degree of freedom = 23, $t-critical = 1.714$.\n",
    "\n",
    "Confindence interval of mean difference:<br>\n",
    "$CI = -7.97 \\pm 1.714 * 0.99 = (-6.27, -9.67)$<br>\n",
    "\n",
    "**Conclusion:**<br>\n",
    "\n",
    "$H_O: \\mu_c - \\mu_i  = 0$<br>\n",
    "$H_A: \\mu_c - \\mu_i \\neq 0$<br>\n",
    "\n",
    "**Reject $H_O$**<br>\n",
    "$Difference = \\mu_c - \\mu_i$<br>\n",
    "Point estimate of difference = $-7.97$<br>\n",
    "$t(23) = -8.05, p < .0001, two-tailed$<br>\n",
    "95% CI on difference = $(-6.27, -9.67)$<br>\n",
    "\n",
    "The mean time it takes participants to complete congruent words test will be 6 to 10 seconds lesser than the mean time it takes participants to complete incongruent words test."
   ]
  },
  {
   "cell_type": "markdown",
   "metadata": {},
   "source": [
    "### Q6: What do you think is responsible for the effects observed? Can you think of an alternative or similar task that would result in a similar effect? Some research about the problem will be helpful for thinking about these two questions!"
   ]
  },
  {
   "cell_type": "markdown",
   "metadata": {},
   "source": [
    "Here is one possible reason,\n",
    "\n",
    "Carry over effect - The participants are made to take the Congruent test first and they simply get into the mode of reading the texts. When they are taking the Incongruent test immediately after, it may take some time to adjust their strategy i.e. look at the color and not read the text.\n",
    "\n",
    "In order to fix this issue, we may try randomly assinging congruent or incongruent test as first test to the participants. That could help us rule out the carry over effect.<br>\n",
    "\n",
    "Wikipedia sites many more possible reasons for this i.e. Selective attention, Speed of processing, Automaticity.<br>\n",
    "<br>\n",
    "An **alternative task** could be reciting english alphabets. Participants recite A to Z and note the time and then they recite Z to A i.e. in reverse order and note the time. <br>\n",
    "**Condition 1: A B C D E ...**<br>\n",
    "**Condition 2: Z X Y W V ...**<br>\n",
    "<br>\n",
    "To add a little bit of challenge, we ask the participants to recite alphabets as adjacent pairs or triplets.<br>\n",
    "**Condition 1: AB BC CD DE EF FG ...**<br>\n",
    "**Condition 2: ZY YX XW WV VU UT ...**<br>"
   ]
  },
  {
   "cell_type": "markdown",
   "metadata": {},
   "source": [
    "### References:"
   ]
  },
  {
   "cell_type": "markdown",
   "metadata": {},
   "source": [
    "1. https://stackoverflow.com\n",
    "2. http://data-blog.udacity.com/posts/2016/10/latex-primer/\n",
    "3. https://www.graphpad.com/quickcalcs\n",
    "4. https://medium.com/ibm-data-science-experience/markdown-for-jupyter-notebooks-cheatsheet-386c05aeebed\n",
    "5. https://en.wikipedia.org/wiki/Stroop_effect\n",
    "6. http://blog.minitab.com/blog/adventures-in-statistics-2/understanding-t-tests-t-values-and-t-distributions"
   ]
  }
 ],
 "metadata": {
  "kernelspec": {
   "display_name": "Python [conda env:anaconda3]",
   "language": "python",
   "name": "conda-env-anaconda3-py"
  },
  "language_info": {
   "codemirror_mode": {
    "name": "ipython",
    "version": 3
   },
   "file_extension": ".py",
   "mimetype": "text/x-python",
   "name": "python",
   "nbconvert_exporter": "python",
   "pygments_lexer": "ipython3",
   "version": "3.6.6"
  }
 },
 "nbformat": 4,
 "nbformat_minor": 2
}
